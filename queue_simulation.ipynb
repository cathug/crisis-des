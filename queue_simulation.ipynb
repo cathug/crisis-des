{
 "cells": [
  {
   "cell_type": "code",
   "execution_count": 1,
   "metadata": {},
   "outputs": [],
   "source": [
    "import simpy, random\n",
    "from queue_simulation import ServiceOperation, SIMULATION_DURATION, SEED"
   ]
  },
  {
   "cell_type": "code",
   "execution_count": 2,
   "metadata": {
    "scrolled": false
   },
   "outputs": [
    {
     "name": "stdout",
     "output_type": "stream",
     "text": [
      "~~~~~~~~~~~~~~~~~~~~~~~~~~~~~~~~~~~~~~~~~~~~~~~~~~~~~~~~~~~~~~~~~~~\n",
      "Initializing OpenUp Queue Simulation\n",
      "~~~~~~~~~~~~~~~~~~~~~~~~~~~~~~~~~~~~~~~~~~~~~~~~~~~~~~~~~~~~~~~~~~~\n"
     ]
    }
   ],
   "source": [
    "print('~~~~~~~~~~~~~~~~~~~~~~~~~~~~~~~~~~~~~~~~~~~~~~~~~~~~~~~~~~~~~~~~~~~')\n",
    "print('Initializing OpenUp Queue Simulation')\n",
    "print('~~~~~~~~~~~~~~~~~~~~~~~~~~~~~~~~~~~~~~~~~~~~~~~~~~~~~~~~~~~~~~~~~~~')\n",
    "\n",
    "random.seed(SEED) # comment out line if not reproducing results\n",
    "queue_status = []\n",
    "max_queue_length = []\n",
    "num_helpseekers = []\n",
    "num_helpseekers_served = []\n",
    "num_helpseekers_served_g_regular = []\n",
    "num_helpseekers_served_g_repeated = []\n",
    "num_helpseekers_reneged = []\n",
    "# num_helpseekers_reneged_g_regular = []\n",
    "# num_helpseekers_reneged_g_repeated = []\n",
    "num_available_counsellor_processes = []\n",
    "    \n",
    "for i in range(1, 1501):\n",
    "    # create environment\n",
    "    env = simpy.Environment() \n",
    "\n",
    "    # set up service operation and run simulation until  \n",
    "    S = ServiceOperation(env=env)\n",
    "    env.run(until=SIMULATION_DURATION)\n",
    "\n",
    "#     print(f'Iteration #{i} ')\n",
    "      \n",
    "    num_helpseekers.append(S.num_helpseekers)\n",
    "    max_queue_length.append(S.helpseeker_queue_max_length)\n",
    "    queue_status.extend(S.times_queue_not_empty)\n",
    "    num_available_counsellor_processes.extend(S.num_available_counsellor_processes)\n",
    "    num_helpseekers_served.append(S.served)\n",
    "    num_helpseekers_served_g_regular.append(S.served_g_regular)\n",
    "    num_helpseekers_served_g_repeated.append(S.served_g_repeated)\n",
    "    num_helpseekers_reneged.append(S.reneged)\n",
    "#     num_helpseekers_reneged_g_regular.append(S.reneged_g_regular)\n",
    "#     num_helpseekers_reneged_g_repeated.append(S.reneged_g_repeated)"
   ]
  },
  {
   "cell_type": "code",
   "execution_count": 3,
   "metadata": {},
   "outputs": [],
   "source": [
    "import pandas as pd\n",
    "import numpy as np\n",
    "import seaborn as sns"
   ]
  },
  {
   "cell_type": "code",
   "execution_count": 4,
   "metadata": {},
   "outputs": [],
   "source": [
    "sns.set();"
   ]
  },
  {
   "cell_type": "code",
   "execution_count": null,
   "metadata": {},
   "outputs": [],
   "source": []
  },
  {
   "cell_type": "code",
   "execution_count": 5,
   "metadata": {},
   "outputs": [],
   "source": [
    "num_helpseekers = pd.Series(num_helpseekers, name='number of helpseekers')\n",
    "num_helpseekers_served = pd.Series(num_helpseekers_served, name='number of helpseekers served')\n",
    "num_helpseekers_served_g_regular = pd.Series(num_helpseekers_served_g_regular, name='number of users served')\n",
    "num_helpseekers_served_g_repeated = pd.Series(num_helpseekers_served_g_repeated, name='number of repeated users served')\n",
    "num_helpseekers_reneged = pd.Series(num_helpseekers_reneged, name='number of helpseekers reneged')\n",
    "# num_helpseekers_reneged_g_regular = pd.Series(num_helpseekers_reneged_g_regular, name='number of users reneged')\n",
    "# num_helpseekers_reneged_g_repeated = pd.Series(num_helpseekers_reneged_g_repeated, name='number of repeated users reneged')\n",
    "# queue_status = pd.Series(queue_status, name='number of instances queue exceeded four helpseekers')\n",
    "max_queue_length = pd.Series(max_queue_length, name='max queue length')"
   ]
  },
  {
   "cell_type": "code",
   "execution_count": null,
   "metadata": {},
   "outputs": [],
   "source": []
  },
  {
   "cell_type": "code",
   "execution_count": 6,
   "metadata": {},
   "outputs": [],
   "source": [
    "# function to calculate classification confidence intervals\n",
    "# parameter: stats - list of confidence intervals, which must be ordered\n",
    "#            metadata - any string to annotate printout, can be None\n",
    "# precondition - metadata must be a string or None, and stats must be a list\n",
    "#                  The check is commented out for now as asserts should \n",
    "#               be done outside function\n",
    "# returns: cutoff values at 2.5% and 95% percentiles\n",
    "def calculate_confidence_intervals(stats, metadata=None):\n",
    "    # if not isinstance(metadata, None) or \\\n",
    "    #     not isinstance(metadata, str) or \\\n",
    "    #     not isinstance(stats, list):\n",
    "    #     return\n",
    "        \n",
    "    confidence_interval = .95 # 95 percent confidence level\n",
    "    q_lower = .5 * (1 - confidence_interval)\n",
    "    q_upper = confidence_interval + q_lower\n",
    "        \n",
    "    # convert to percentages\n",
    "    q_lower = q_lower * 100\n",
    "    q_upper = q_upper * 100\n",
    "    confidence_interval = confidence_interval * 100\n",
    "        \n",
    "    #     print(q_lower, q_upper)\n",
    "    lower_percentile = np.percentile(stats, q_lower)\n",
    "    upper_percentile = np.percentile(stats, q_upper)\n",
    "    mean = np.mean(stats)\n",
    "        \n",
    "    print('\\n%s %d%% Confidence interval:' % (\n",
    "        metadata, confidence_interval) )\n",
    "    print('----------------------------')\n",
    "    print('%.1f%% percentile: %.5f' % (q_lower, lower_percentile) )\n",
    "    print('%.1f%% percentile: %.5f\\n' % (q_upper, upper_percentile) )\n",
    "    print('mean value: %.5f' % mean)\n",
    "    return (lower_percentile, upper_percentile, mean)"
   ]
  },
  {
   "cell_type": "code",
   "execution_count": null,
   "metadata": {},
   "outputs": [],
   "source": []
  },
  {
   "cell_type": "code",
   "execution_count": 7,
   "metadata": {},
   "outputs": [],
   "source": [
    "import matplotlib.pyplot as plt"
   ]
  },
  {
   "cell_type": "code",
   "execution_count": 8,
   "metadata": {},
   "outputs": [],
   "source": [
    "def plot_distribution(series, filename):\n",
    "    confidence_interval = .95 # 95 percent confidence level\n",
    "    q_lower = .5 * (1 - confidence_interval)\n",
    "    q_upper = confidence_interval + q_lower\n",
    "        \n",
    "    # convert to percentages\n",
    "    q_lower = q_lower * 100\n",
    "    q_upper = q_upper * 100\n",
    "    confidence_interval = confidence_interval * 100\n",
    "        \n",
    "    #     print(q_lower, q_upper)\n",
    "    lower_percentile = np.percentile(series, q_lower)\n",
    "    upper_percentile = np.percentile(series, q_upper)\n",
    "    mean = np.mean(series)\n",
    "    \n",
    "    \n",
    "    fig, ax = plt.subplots(1, 1, figsize=(7, 5) )\n",
    "    sns.distplot(series, ax=ax)\n",
    "    ax.axvline(x=lower_percentile, linestyle='--' )\n",
    "    ax.axvline(x=upper_percentile, linestyle='--' )\n",
    "    ax.axvline(x=mean, linestyle=':', linewidth=2 )\n",
    "    \n",
    "    fig.savefig(f'{filename}.png', dpi=300, bbox_inches='tight')"
   ]
  },
  {
   "cell_type": "code",
   "execution_count": 9,
   "metadata": {},
   "outputs": [
    {
     "data": {
      "image/png": "[encoded data removed]",
      "text/plain": [
       "<Figure size 504x360 with 1 Axes>"
      ]
     },
     "metadata": {},
     "output_type": "display_data"
    }
   ],
   "source": [
    "plot_distribution(num_helpseekers, 'num_helpseekers')"
   ]
  },
  {
   "cell_type": "code",
   "execution_count": 10,
   "metadata": {},
   "outputs": [
    {
     "name": "stdout",
     "output_type": "stream",
     "text": [
      "\n",
      "None 95% Confidence interval:\n",
      "----------------------------\n",
      "2.5% percentile: 4112.00000\n",
      "97.5% percentile: 4369.05000\n",
      "\n",
      "mean value: 4242.50467\n"
     ]
    }
   ],
   "source": [
    "lower, upper, mean = calculate_confidence_intervals(\n",
    "    num_helpseekers.sort_values().to_list() )"
   ]
  },
  {
   "cell_type": "code",
   "execution_count": null,
   "metadata": {},
   "outputs": [],
   "source": []
  },
  {
   "cell_type": "code",
   "execution_count": null,
   "metadata": {},
   "outputs": [],
   "source": []
  },
  {
   "cell_type": "code",
   "execution_count": 11,
   "metadata": {},
   "outputs": [
    {
     "data": {
      "image/png": "[encoded data removed]",
      "text/plain": [
       "<Figure size 504x360 with 1 Axes>"
      ]
     },
     "metadata": {},
     "output_type": "display_data"
    }
   ],
   "source": [
    "plot_distribution(num_helpseekers_served, 'num_helpseekers_served')"
   ]
  },
  {
   "cell_type": "code",
   "execution_count": 12,
   "metadata": {},
   "outputs": [
    {
     "name": "stdout",
     "output_type": "stream",
     "text": [
      "\n",
      "None 95% Confidence interval:\n",
      "----------------------------\n",
      "2.5% percentile: 2170.00000\n",
      "97.5% percentile: 2537.10000\n",
      "\n",
      "mean value: 2363.73533\n"
     ]
    }
   ],
   "source": [
    "lower, upper, mean = calculate_confidence_intervals(\n",
    "    num_helpseekers_served.sort_values().to_list() )"
   ]
  },
  {
   "cell_type": "code",
   "execution_count": null,
   "metadata": {},
   "outputs": [],
   "source": []
  },
  {
   "cell_type": "code",
   "execution_count": 13,
   "metadata": {},
   "outputs": [
    {
     "data": {
      "image/png": "[encoded data removed]",
      "text/plain": [
       "<Figure size 504x360 with 1 Axes>"
      ]
     },
     "metadata": {},
     "output_type": "display_data"
    }
   ],
   "source": [
    "plot_distribution(num_helpseekers_served_g_regular, 'num_helpseekers_served_g_regular')"
   ]
  },
  {
   "cell_type": "code",
   "execution_count": 14,
   "metadata": {},
   "outputs": [
    {
     "name": "stdout",
     "output_type": "stream",
     "text": [
      "\n",
      "None 95% Confidence interval:\n",
      "----------------------------\n",
      "2.5% percentile: 1438.47500\n",
      "97.5% percentile: 1701.52500\n",
      "\n",
      "mean value: 1574.55667\n"
     ]
    }
   ],
   "source": [
    "lower, upper, mean = calculate_confidence_intervals(\n",
    "    num_helpseekers_served_g_regular.sort_values().to_list() )"
   ]
  },
  {
   "cell_type": "code",
   "execution_count": null,
   "metadata": {},
   "outputs": [],
   "source": []
  },
  {
   "cell_type": "code",
   "execution_count": 15,
   "metadata": {},
   "outputs": [
    {
     "data": {
      "image/png": "[encoded data removed]",
      "text/plain": [
       "<Figure size 504x360 with 1 Axes>"
      ]
     },
     "metadata": {},
     "output_type": "display_data"
    }
   ],
   "source": [
    "plot_distribution(num_helpseekers_served_g_repeated, 'num_helpseekers_served_g_repeated')"
   ]
  },
  {
   "cell_type": "code",
   "execution_count": 16,
   "metadata": {},
   "outputs": [
    {
     "name": "stdout",
     "output_type": "stream",
     "text": [
      "\n",
      "None 95% Confidence interval:\n",
      "----------------------------\n",
      "2.5% percentile: 713.00000\n",
      "97.5% percentile: 862.52500\n",
      "\n",
      "mean value: 789.17867\n"
     ]
    }
   ],
   "source": [
    "lower, upper, mean = calculate_confidence_intervals(\n",
    "    num_helpseekers_served_g_repeated.sort_values().to_list() )"
   ]
  },
  {
   "cell_type": "code",
   "execution_count": null,
   "metadata": {},
   "outputs": [],
   "source": []
  },
  {
   "cell_type": "code",
   "execution_count": null,
   "metadata": {},
   "outputs": [],
   "source": []
  },
  {
   "cell_type": "code",
   "execution_count": null,
   "metadata": {},
   "outputs": [],
   "source": []
  },
  {
   "cell_type": "code",
   "execution_count": 17,
   "metadata": {},
   "outputs": [
    {
     "data": {
      "image/png": "[encoded data removed]",
      "text/plain": [
       "<Figure size 504x360 with 1 Axes>"
      ]
     },
     "metadata": {},
     "output_type": "display_data"
    }
   ],
   "source": [
    "plot_distribution(num_helpseekers_reneged, 'num_helpseekers_reneged')"
   ]
  },
  {
   "cell_type": "code",
   "execution_count": 18,
   "metadata": {},
   "outputs": [
    {
     "name": "stdout",
     "output_type": "stream",
     "text": [
      "\n",
      "None 95% Confidence interval:\n",
      "----------------------------\n",
      "2.5% percentile: 1693.90000\n",
      "97.5% percentile: 2100.05000\n",
      "\n",
      "mean value: 1877.99333\n"
     ]
    }
   ],
   "source": [
    "lower, upper, mean = calculate_confidence_intervals(\n",
    "    num_helpseekers_reneged.sort_values().to_list() )"
   ]
  },
  {
   "cell_type": "code",
   "execution_count": null,
   "metadata": {},
   "outputs": [],
   "source": []
  },
  {
   "cell_type": "code",
   "execution_count": null,
   "metadata": {},
   "outputs": [],
   "source": []
  },
  {
   "cell_type": "code",
   "execution_count": 19,
   "metadata": {},
   "outputs": [
    {
     "ename": "NameError",
     "evalue": "name 'num_helpseekers_reneged_g_regular' is not defined",
     "output_type": "error",
     "traceback": [
      "\u001b[0;31m---------------------------------------------------------------------------\u001b[0m",
      "\u001b[0;31mNameError\u001b[0m                                 Traceback (most recent call last)",
      "\u001b[0;32m<ipython-input-19-221e4fbbbb7f>\u001b[0m in \u001b[0;36m<module>\u001b[0;34m\u001b[0m\n\u001b[0;32m----> 1\u001b[0;31m \u001b[0mplot_distribution\u001b[0m\u001b[0;34m(\u001b[0m\u001b[0mnum_helpseekers_reneged_g_regular\u001b[0m\u001b[0;34m,\u001b[0m \u001b[0;34m'num_helpseekers_reneged_g_regular'\u001b[0m\u001b[0;34m)\u001b[0m\u001b[0;34m\u001b[0m\u001b[0;34m\u001b[0m\u001b[0m\n\u001b[0m",
      "\u001b[0;31mNameError\u001b[0m: name 'num_helpseekers_reneged_g_regular' is not defined"
     ]
    }
   ],
   "source": [
    "# plot_distribution(num_helpseekers_reneged_g_regular, 'num_helpseekers_reneged_g_regular')"
   ]
  },
  {
   "cell_type": "code",
   "execution_count": null,
   "metadata": {},
   "outputs": [],
   "source": [
    "# lower, upper, mean = calculate_confidence_intervals(\n",
    "#     num_helpseekers_reneged_g_regular.sort_values().to_list() )"
   ]
  },
  {
   "cell_type": "code",
   "execution_count": null,
   "metadata": {},
   "outputs": [],
   "source": []
  },
  {
   "cell_type": "code",
   "execution_count": null,
   "metadata": {},
   "outputs": [],
   "source": []
  },
  {
   "cell_type": "code",
   "execution_count": null,
   "metadata": {},
   "outputs": [],
   "source": [
    "plot_distribution(num_helpseekers_reneged_g_repeated, 'num_helpseekers_reneged_g_repeated')"
   ]
  },
  {
   "cell_type": "code",
   "execution_count": null,
   "metadata": {},
   "outputs": [],
   "source": [
    "lower, upper, mean = calculate_confidence_intervals(\n",
    "    num_helpseekers_reneged_g_repeated.sort_values().to_list() )"
   ]
  },
  {
   "cell_type": "code",
   "execution_count": null,
   "metadata": {},
   "outputs": [],
   "source": []
  },
  {
   "cell_type": "code",
   "execution_count": null,
   "metadata": {},
   "outputs": [],
   "source": []
  },
  {
   "cell_type": "code",
   "execution_count": null,
   "metadata": {},
   "outputs": [],
   "source": [
    "max_queue_length_count = sns.countplot(x='max queue length', data=max_queue_length.to_frame())\n",
    "\n",
    "max_queue_length_count.get_figure().savefig(f'max_queue_length_count.png', dpi=300, bbox_inches='tight')"
   ]
  },
  {
   "cell_type": "code",
   "execution_count": null,
   "metadata": {},
   "outputs": [],
   "source": [
    "queue_status = pd.DataFrame(queue_status, columns=['day_of_week', 'hour', 'queue_length'])"
   ]
  },
  {
   "cell_type": "code",
   "execution_count": null,
   "metadata": {},
   "outputs": [],
   "source": [
    "queue_status['hour'] = queue_status['hour'].str.replace('hour:', '').astype(int)"
   ]
  },
  {
   "cell_type": "code",
   "execution_count": null,
   "metadata": {},
   "outputs": [],
   "source": [
    "queue_status['day_of_week'].replace({\n",
    "    'weekday:0': 'Sunday',\n",
    "    'weekday:1': 'Monday',\n",
    "    'weekday:2': 'Tuesday',\n",
    "    'weekday:3': 'Wednesday',\n",
    "    'weekday:4': 'Thursday',\n",
    "    'weekday:5': 'Friday',\n",
    "    'weekday:6': 'Saturday'\n",
    "}, inplace=True)"
   ]
  },
  {
   "cell_type": "code",
   "execution_count": null,
   "metadata": {},
   "outputs": [],
   "source": [
    "queue_status['queue_length'] = queue_status['queue_length'].str.replace('queue_length:', '').astype(int)"
   ]
  },
  {
   "cell_type": "code",
   "execution_count": null,
   "metadata": {},
   "outputs": [],
   "source": [
    "queue_status"
   ]
  },
  {
   "cell_type": "code",
   "execution_count": null,
   "metadata": {},
   "outputs": [],
   "source": [
    "queue_status['total']=1"
   ]
  },
  {
   "cell_type": "code",
   "execution_count": null,
   "metadata": {},
   "outputs": [],
   "source": [
    "totals = queue_status.groupby(\n",
    "    ['day_of_week', 'hour', 'queue_length']).sum()"
   ]
  },
  {
   "cell_type": "code",
   "execution_count": null,
   "metadata": {},
   "outputs": [],
   "source": [
    "totals = totals.reset_index()"
   ]
  },
  {
   "cell_type": "code",
   "execution_count": null,
   "metadata": {},
   "outputs": [],
   "source": [
    "totals"
   ]
  },
  {
   "cell_type": "code",
   "execution_count": null,
   "metadata": {},
   "outputs": [],
   "source": [
    "totals = pd.pivot_table(totals, values='total', columns=['queue_length'],\n",
    "              index=['day_of_week', 'hour'], aggfunc=np.sum, fill_value=0)"
   ]
  },
  {
   "cell_type": "code",
   "execution_count": null,
   "metadata": {},
   "outputs": [],
   "source": [
    "totals_percent = (((totals.T/totals.T.sum()).T)*100)#.round(2)"
   ]
  },
  {
   "cell_type": "markdown",
   "metadata": {},
   "source": [
    "totals_percent"
   ]
  },
  {
   "cell_type": "code",
   "execution_count": null,
   "metadata": {},
   "outputs": [],
   "source": [
    "totals_percent"
   ]
  },
  {
   "cell_type": "code",
   "execution_count": null,
   "metadata": {},
   "outputs": [],
   "source": [
    "totals_percent2 = totals_percent.reset_index()"
   ]
  },
  {
   "cell_type": "code",
   "execution_count": null,
   "metadata": {},
   "outputs": [],
   "source": [
    "totals_percent2['day_int'] = totals_percent2['day_of_week'].map({\n",
    "    'Friday': 5,\n",
    "    'Saturday': 6,\n",
    "    'Sunday': 0,\n",
    "    'Monday': 1,\n",
    "    'Tuesday': 2,\n",
    "    'Wednesday': 3,\n",
    "    'Thursday': 4\n",
    "})"
   ]
  },
  {
   "cell_type": "code",
   "execution_count": null,
   "metadata": {},
   "outputs": [],
   "source": [
    "totals_percent2 = totals_percent2.sort_values(\n",
    "    by=['day_int', 'hour']).reset_index(drop=True).set_index(\n",
    "    ['day_of_week', 'hour']).drop(columns=['day_int'])"
   ]
  },
  {
   "cell_type": "code",
   "execution_count": null,
   "metadata": {},
   "outputs": [],
   "source": [
    "totals_percent2"
   ]
  },
  {
   "cell_type": "code",
   "execution_count": null,
   "metadata": {},
   "outputs": [],
   "source": [
    "totals_percent2['2_or_above'] = 0\n",
    "for i in totals_percent2.columns[2:]:\n",
    "    totals_percent2['2_or_above'] += totals_percent2[i]"
   ]
  },
  {
   "cell_type": "code",
   "execution_count": null,
   "metadata": {},
   "outputs": [],
   "source": [
    "totals_percent2.reset_index(inplace=True)"
   ]
  },
  {
   "cell_type": "code",
   "execution_count": null,
   "metadata": {},
   "outputs": [],
   "source": [
    "totals_percent2['new_ind'] = totals_percent2['day_of_week'] + '_'+ totals_percent2['hour'].astype(str)"
   ]
  },
  {
   "cell_type": "code",
   "execution_count": null,
   "metadata": {},
   "outputs": [],
   "source": [
    "totals_percent3 = totals_percent2.set_index('new_ind')[[0, 1, '2_or_above']].copy()"
   ]
  },
  {
   "cell_type": "code",
   "execution_count": null,
   "metadata": {},
   "outputs": [],
   "source": [
    "import matplotlib\n",
    "import matplotlib.pyplot as plt\n",
    "from matplotlib import font_manager\n",
    "import seaborn as sns\n",
    "\n",
    "# modify matplotlib and seaborn settings\n",
    "# to display Chinese \n",
    "plt.rcParams['font.sans-serif'] = ['Noto Sans CJK JP'] \n",
    "plt.rcParams['axes.unicode_minus'] = False\n",
    "plt.rcParams['axes.labelweight'] = 'heavy'\n",
    "plt.rcParams['font.weight'] = 'medium'\n",
    "\n",
    "sns.set(font=['sans-serif'])\n",
    "sns.set_style('dark',{'font.sans-serif':['Noto Serif CJK JP']})\n",
    "sns.set_context('talk')"
   ]
  },
  {
   "cell_type": "code",
   "execution_count": null,
   "metadata": {
    "scrolled": false
   },
   "outputs": [],
   "source": [
    "# fig, ax = plt.subplots(figsize=(10, 100) )\n",
    "\n",
    "\n",
    "# sns.heatmap(totals_percent, annot=True, ax=ax, annot_kws={\"size\": 12}, \n",
    "#     cmap=sns.diverging_palette(220, 10, sep=80, n=255)\n",
    "# );\n",
    "# fig.suptitle('Queue Length Probabilities by\\nthe day of the week and hour\\n'\n",
    "#              '#Social Worker(s) × #sim chats max: 2 × 4,\\n'\n",
    "#              '#Duty Officer(s) × #sim chats max: 1 × 1,\\n'\n",
    "#              '#Volunteer(s) × #sim chats max: 2 × 1',\n",
    "#     fontsize=24, weight='heavy',\n",
    "#     fontweight=1000, y=.9)\n",
    "# plt.subplots_adjust(bottom=0.2)\n",
    "\n",
    "# # workaround from https://github.com/mwaskom/seaborn/issues/1773\n",
    "# b, t = plt.ylim() # discover the values for bottom and top\n",
    "# b += 0.5 # Add 0.5 to the bottom\n",
    "# t -= 0.5 # Subtract 0.5 from the top\n",
    "# plt.ylim(b, t) # update the ylim(bottom, top) values\n",
    "# plt.show() # ta-da!\n",
    "\n",
    "# fig.savefig(f'queue_output/Queue_SW_24_DO_11_V_21.png', dpi=300, bbox_inches='tight')"
   ]
  },
  {
   "cell_type": "code",
   "execution_count": null,
   "metadata": {},
   "outputs": [],
   "source": [
    "fig, ax = plt.subplots(figsize=(20,6) )\n",
    "palette = sns.color_palette(\"Set3\")\n",
    "\n",
    "fig.suptitle('Conditional Queue Length Probabilities by\\n hours of the day of the week',\n",
    "    fontsize=24, weight='heavy',\n",
    "    fontweight=1000, y=1.1)\n",
    "\n",
    "totals_percent3.plot.bar(\n",
    "    stacked=True,\n",
    "    ax=ax,\n",
    "    linewidth=.01,\n",
    "    color=palette\n",
    ")\n",
    "ax.set_xticklabels(labels=[f'{x[:3]}-{x[-1]} hr' \n",
    "    if x[-2:] == '_0' else ''\n",
    "    for x in totals_percent3.index])\n",
    "\n",
    "ax.set_xlabel('Hours of the day')\n",
    "ax.set_ylabel('Probability (%)')\n",
    "\n",
    "\n",
    "\n",
    "ax.set_ylim(0,100)\n",
    "ax.legend(loc='lower center', bbox_to_anchor=(0.5, -.6), ncol=3)\n"
   ]
  },
  {
   "cell_type": "code",
   "execution_count": null,
   "metadata": {
    "scrolled": true
   },
   "outputs": [],
   "source": [
    "queue_plot = sns.catplot(col='day_of_week', y='hour', col_wrap=4,\n",
    "    col_order=['Sunday',\n",
    "        'Monday',\n",
    "        'Tuesday',\n",
    "        'Wednesday',\n",
    "        'Thursday',\n",
    "        'Friday',\n",
    "        'Saturday'],\n",
    "    data=queue_status, kind=\"count\",\n",
    "    height=4, aspect=1);\n",
    "queue_plot.savefig(f'queue_blowup.png', dpi=300, bbox_inches='tight')"
   ]
  },
  {
   "cell_type": "markdown",
   "metadata": {},
   "source": [
    "# determine hours counsellors are maxed out"
   ]
  },
  {
   "cell_type": "code",
   "execution_count": null,
   "metadata": {},
   "outputs": [],
   "source": [
    "df2 = pd.DataFrame(num_available_counsellor_processes, columns=['time', 'num_counsellor_processes'])"
   ]
  },
  {
   "cell_type": "code",
   "execution_count": null,
   "metadata": {},
   "outputs": [],
   "source": [
    "from queue_simulation import MINUTES_PER_DAY, DAYS_IN_WEEK, MINUTES_PER_HOUR#, MAX_NUM_SIMULTANEOUS_CHATS"
   ]
  },
  {
   "cell_type": "code",
   "execution_count": null,
   "metadata": {},
   "outputs": [],
   "source": [
    "df2['time_int'] = df2['time'].astype(int)"
   ]
  },
  {
   "cell_type": "code",
   "execution_count": null,
   "metadata": {},
   "outputs": [],
   "source": [
    "df2['current_day_minutes'] = df2['time_int'] % MINUTES_PER_DAY"
   ]
  },
  {
   "cell_type": "code",
   "execution_count": null,
   "metadata": {},
   "outputs": [],
   "source": [
    "df2['weekday'] = (df2['time_int'] / MINUTES_PER_DAY).astype(int) % DAYS_IN_WEEK"
   ]
  },
  {
   "cell_type": "code",
   "execution_count": null,
   "metadata": {},
   "outputs": [],
   "source": [
    "df2['hour'] = (df2['current_day_minutes'] / MINUTES_PER_HOUR).astype(int)"
   ]
  },
  {
   "cell_type": "code",
   "execution_count": null,
   "metadata": {},
   "outputs": [],
   "source": [
    "df2['day_of_week'] = df2['weekday'].replace({\n",
    "    0: 'Sunday',\n",
    "    1: 'Monday',\n",
    "    2: 'Tuesday',\n",
    "    3: 'Wednesday',\n",
    "    4: 'Thursday',\n",
    "    5: 'Friday',\n",
    "    6: 'Saturday'\n",
    "})"
   ]
  },
  {
   "cell_type": "markdown",
   "metadata": {},
   "source": [
    "# Number of instances when one/no counsellor is available (1500 simulations, seed=728, four or less processes)"
   ]
  },
  {
   "cell_type": "code",
   "execution_count": null,
   "metadata": {},
   "outputs": [],
   "source": [
    "process_plot = sns.catplot(col='day_of_week', y='hour', col_wrap=4,\n",
    "    col_order=['Sunday',\n",
    "        'Monday',\n",
    "        'Tuesday',\n",
    "        'Wednesday',\n",
    "        'Thursday',\n",
    "        'Friday',\n",
    "        'Saturday'],\n",
    "    data=df2[df2['num_counsellor_processes']<=2], kind=\"count\",\n",
    "    height=4, aspect=1);\n",
    "process_plot.savefig(f'process_plot.png', dpi=300, bbox_inches='tight')"
   ]
  },
  {
   "cell_type": "markdown",
   "metadata": {},
   "source": [
    "# Number of instances when at least two counsellors are idle (1500 simulations, seed=728, eight or more processes)"
   ]
  },
  {
   "cell_type": "code",
   "execution_count": null,
   "metadata": {},
   "outputs": [],
   "source": [
    "process_plot = sns.catplot(col='day_of_week', y='hour', col_wrap=4,\n",
    "    col_order=['Sunday',\n",
    "        'Monday',\n",
    "        'Tuesday',\n",
    "        'Wednesday',\n",
    "        'Thursday',\n",
    "        'Friday',\n",
    "        'Saturday'],\n",
    "    data=df2[df2['num_counsellor_processes']>=8], kind=\"count\",\n",
    "    height=4, aspect=1);\n",
    "process_plot.savefig(f'process_plot_2.png', dpi=300, bbox_inches='tight')"
   ]
  },
  {
   "cell_type": "code",
   "execution_count": null,
   "metadata": {},
   "outputs": [],
   "source": []
  }
 ],
 "metadata": {
  "kernelspec": {
   "display_name": "Python 3",
   "language": "python",
   "name": "python3"
  },
  "language_info": {
   "codemirror_mode": {
    "name": "ipython",
    "version": 3
   },
   "file_extension": ".py",
   "mimetype": "text/x-python",
   "name": "python",
   "nbconvert_exporter": "python",
   "pygments_lexer": "ipython3",
   "version": "3.7.4"
  }
 },
 "nbformat": 4,
 "nbformat_minor": 2
}
